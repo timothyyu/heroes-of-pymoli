{
 "cells": [
  {
   "cell_type": "code",
   "execution_count": 2,
   "metadata": {
    "collapsed": true
   },
   "outputs": [],
   "source": [
    "import pandas as pd\n",
    "import json"
   ]
  },
  {
   "cell_type": "code",
   "execution_count": 3,
   "metadata": {
    "scrolled": true
   },
   "outputs": [
    {
     "name": "stdout",
     "output_type": "stream",
     "text": [
      "780\n",
      "78\n"
     ]
    }
   ],
   "source": [
    "file1_df = pd.read_json('raw_data/purchase_data.json')\n",
    "file2_df = pd.read_json('raw_data/purchase_data2.json')\n",
    "print (len(file1_df))\n",
    "print (len(file2_df))"
   ]
  },
  {
   "cell_type": "code",
   "execution_count": 4,
   "metadata": {
    "scrolled": true
   },
   "outputs": [
    {
     "data": {
      "text/plain": [
       "(Index(['Age', 'Gender', 'Item ID', 'Item Name', 'Price', 'SN'], dtype='object'),\n",
       " Index(['Age', 'Gender', 'Item ID', 'Item Name', 'Price', 'SN'], dtype='object'))"
      ]
     },
     "execution_count": 4,
     "metadata": {},
     "output_type": "execute_result"
    }
   ],
   "source": [
    "#Check to make sure columns are the same between both files\n",
    "file1_df.columns,file2_df.columns"
   ]
  },
  {
   "cell_type": "code",
   "execution_count": 5,
   "metadata": {
    "collapsed": true
   },
   "outputs": [],
   "source": [
    "#append contents of file2 to file 1\n",
    "pymoli_df = file1_df.append(file2_df)\n",
    "#pymoli_df = pd.merge(file1_df,file2_df, on=\"\", how=\"inner\")"
   ]
  },
  {
   "cell_type": "code",
   "execution_count": 6,
   "metadata": {},
   "outputs": [
    {
     "name": "stdout",
     "output_type": "stream",
     "text": [
      "858\n"
     ]
    }
   ],
   "source": [
    "#player count\n",
    "playerCount = len(pymoli_df['SN'])     #alternate way: playerCount = pymoli_df['SN'].count().mean()\n",
    "print(playerCount)"
   ]
  },
  {
   "cell_type": "code",
   "execution_count": 7,
   "metadata": {},
   "outputs": [
    {
     "data": {
      "text/html": [
       "<div>\n",
       "<style>\n",
       "    .dataframe thead tr:only-child th {\n",
       "        text-align: right;\n",
       "    }\n",
       "\n",
       "    .dataframe thead th {\n",
       "        text-align: left;\n",
       "    }\n",
       "\n",
       "    .dataframe tbody tr th {\n",
       "        vertical-align: top;\n",
       "    }\n",
       "</style>\n",
       "<table border=\"1\" class=\"dataframe\">\n",
       "  <thead>\n",
       "    <tr style=\"text-align: right;\">\n",
       "      <th></th>\n",
       "      <th>Average Purchase Price</th>\n",
       "      <th>Purchase Count</th>\n",
       "      <th>Total Revenue</th>\n",
       "      <th>Unique Item Count</th>\n",
       "    </tr>\n",
       "  </thead>\n",
       "  <tbody>\n",
       "    <tr>\n",
       "      <th>0</th>\n",
       "      <td>2.930571</td>\n",
       "      <td>858</td>\n",
       "      <td>2514.43</td>\n",
       "      <td>184</td>\n",
       "    </tr>\n",
       "  </tbody>\n",
       "</table>\n",
       "</div>"
      ],
      "text/plain": [
       "   Average Purchase Price  Purchase Count  Total Revenue  Unique Item Count\n",
       "0                2.930571             858        2514.43                184"
      ]
     },
     "execution_count": 7,
     "metadata": {},
     "output_type": "execute_result"
    }
   ],
   "source": [
    "#purchase analysis\n",
    "\n",
    "#number of unique items\n",
    "uniqueItemCount = len(pymoli_df['Item ID'].unique())\n",
    "\n",
    "#average purchase price\n",
    "averagePurchasePrice = pymoli_df[\"Price\"].mean()\n",
    "\n",
    "#total number of purchases\n",
    "purchaseCount = pymoli_df['Price'].count() #pymoli_df.loc[pymoli_df['Price'] == 0.00] #search through purchases to make sure non are free/0.00\n",
    "\n",
    "#total revenue\n",
    "totalRevenue = pymoli_df['Price'].sum()\n",
    "#pymoli_df['Price'].value_counts()\n",
    "#summary_df = pd.DataFrame({\"UniqueItems\":uniqueItemCount})\n",
    "\n",
    "#summary_df[\"test\"] = averagePurchasePrice\n",
    "price_df_summary = pd.DataFrame({'Unique Item Count':uniqueItemCount,'Average Purchase Price':averagePurchasePrice,'Purchase Count':purchaseCount,'Total Revenue':totalRevenue},index=[0])\n",
    "price_df_summary.head()"
   ]
  },
  {
   "cell_type": "code",
   "execution_count": 8,
   "metadata": {
    "collapsed": true
   },
   "outputs": [],
   "source": [
    "#gender demographics\n",
    "genderCount = pymoli_df['Gender'].value_counts()\n",
    "percentageGender = pymoli_df['Gender'].value_counts()/len(pymoli_df)*100\n",
    "genderDemo_summary_df = pd.DataFrame()\n",
    "genderDemo_summary_df[\"Gender Count\"] = genderCount\n",
    "genderDemo_summary_df[\"Percentage Gender\"] = percentageGender"
   ]
  },
  {
   "cell_type": "code",
   "execution_count": 9,
   "metadata": {},
   "outputs": [
    {
     "data": {
      "text/html": [
       "<div>\n",
       "<style>\n",
       "    .dataframe thead tr:only-child th {\n",
       "        text-align: right;\n",
       "    }\n",
       "\n",
       "    .dataframe thead th {\n",
       "        text-align: left;\n",
       "    }\n",
       "\n",
       "    .dataframe tbody tr th {\n",
       "        vertical-align: top;\n",
       "    }\n",
       "</style>\n",
       "<table border=\"1\" class=\"dataframe\">\n",
       "  <thead>\n",
       "    <tr style=\"text-align: right;\">\n",
       "      <th></th>\n",
       "      <th>Gender Count</th>\n",
       "      <th>Percentage Gender</th>\n",
       "    </tr>\n",
       "  </thead>\n",
       "  <tbody>\n",
       "    <tr>\n",
       "      <th>Male</th>\n",
       "      <td>697</td>\n",
       "      <td>81.235431</td>\n",
       "    </tr>\n",
       "    <tr>\n",
       "      <th>Female</th>\n",
       "      <td>149</td>\n",
       "      <td>17.365967</td>\n",
       "    </tr>\n",
       "    <tr>\n",
       "      <th>Other / Non-Disclosed</th>\n",
       "      <td>12</td>\n",
       "      <td>1.398601</td>\n",
       "    </tr>\n",
       "  </tbody>\n",
       "</table>\n",
       "</div>"
      ],
      "text/plain": [
       "                       Gender Count  Percentage Gender\n",
       "Male                            697          81.235431\n",
       "Female                          149          17.365967\n",
       "Other / Non-Disclosed            12           1.398601"
      ]
     },
     "execution_count": 9,
     "metadata": {},
     "output_type": "execute_result"
    }
   ],
   "source": [
    "genderDemo_summary_df.head()"
   ]
  },
  {
   "cell_type": "code",
   "execution_count": 10,
   "metadata": {
    "collapsed": true
   },
   "outputs": [],
   "source": [
    "#purchase analysis (gender-specific)\n",
    "gender_df_price =  pymoli_df.groupby(['Gender']).mean()[\"Price\"]\n",
    "gender_df_count =  pymoli_df.groupby(['Gender']).count()[\"Price\"]\n",
    "\n",
    "#normalized totals = divide total purchase value by count of each gender in dataset\n",
    "gender_df_normalized_total=gender_df_price/gender_df_count\n",
    "gender_df_normalized_total_percentage = gender_df_normalized_total * 100\n",
    "\n",
    "genderPurchase_summary_df = pd.DataFrame({'Average Purchase Price':gender_df_price,'Purchase Count':gender_df_count,'Normalized Totals':gender_df_normalized_total,'Normalized Totals %':gender_df_normalized_total_percentage})"
   ]
  },
  {
   "cell_type": "code",
   "execution_count": 11,
   "metadata": {},
   "outputs": [
    {
     "data": {
      "text/html": [
       "<div>\n",
       "<style>\n",
       "    .dataframe thead tr:only-child th {\n",
       "        text-align: right;\n",
       "    }\n",
       "\n",
       "    .dataframe thead th {\n",
       "        text-align: left;\n",
       "    }\n",
       "\n",
       "    .dataframe tbody tr th {\n",
       "        vertical-align: top;\n",
       "    }\n",
       "</style>\n",
       "<table border=\"1\" class=\"dataframe\">\n",
       "  <thead>\n",
       "    <tr style=\"text-align: right;\">\n",
       "      <th></th>\n",
       "      <th>Average Purchase Price</th>\n",
       "      <th>Normalized Totals</th>\n",
       "      <th>Normalized Totals %</th>\n",
       "      <th>Purchase Count</th>\n",
       "    </tr>\n",
       "    <tr>\n",
       "      <th>Gender</th>\n",
       "      <th></th>\n",
       "      <th></th>\n",
       "      <th></th>\n",
       "      <th></th>\n",
       "    </tr>\n",
       "  </thead>\n",
       "  <tbody>\n",
       "    <tr>\n",
       "      <th>Female</th>\n",
       "      <td>2.847584</td>\n",
       "      <td>0.019111</td>\n",
       "      <td>1.911130</td>\n",
       "      <td>149</td>\n",
       "    </tr>\n",
       "    <tr>\n",
       "      <th>Male</th>\n",
       "      <td>2.944448</td>\n",
       "      <td>0.004224</td>\n",
       "      <td>0.422446</td>\n",
       "      <td>697</td>\n",
       "    </tr>\n",
       "    <tr>\n",
       "      <th>Other / Non-Disclosed</th>\n",
       "      <td>3.155000</td>\n",
       "      <td>0.262917</td>\n",
       "      <td>26.291667</td>\n",
       "      <td>12</td>\n",
       "    </tr>\n",
       "  </tbody>\n",
       "</table>\n",
       "</div>"
      ],
      "text/plain": [
       "                       Average Purchase Price  Normalized Totals  \\\n",
       "Gender                                                             \n",
       "Female                               2.847584           0.019111   \n",
       "Male                                 2.944448           0.004224   \n",
       "Other / Non-Disclosed                3.155000           0.262917   \n",
       "\n",
       "                       Normalized Totals %  Purchase Count  \n",
       "Gender                                                      \n",
       "Female                            1.911130             149  \n",
       "Male                              0.422446             697  \n",
       "Other / Non-Disclosed            26.291667              12  "
      ]
     },
     "execution_count": 11,
     "metadata": {},
     "output_type": "execute_result"
    }
   ],
   "source": [
    "genderPurchase_summary_df.head()"
   ]
  },
  {
   "cell_type": "code",
   "execution_count": 12,
   "metadata": {},
   "outputs": [
    {
     "data": {
      "text/html": [
       "<div>\n",
       "<style>\n",
       "    .dataframe thead tr:only-child th {\n",
       "        text-align: right;\n",
       "    }\n",
       "\n",
       "    .dataframe thead th {\n",
       "        text-align: left;\n",
       "    }\n",
       "\n",
       "    .dataframe tbody tr th {\n",
       "        vertical-align: top;\n",
       "    }\n",
       "</style>\n",
       "<table border=\"1\" class=\"dataframe\">\n",
       "  <thead>\n",
       "    <tr style=\"text-align: right;\">\n",
       "      <th></th>\n",
       "      <th>Age</th>\n",
       "      <th>Gender</th>\n",
       "      <th>Item ID</th>\n",
       "      <th>Item Name</th>\n",
       "      <th>Price</th>\n",
       "      <th>SN</th>\n",
       "      <th>Age Demographics</th>\n",
       "    </tr>\n",
       "  </thead>\n",
       "  <tbody>\n",
       "    <tr>\n",
       "      <th>0</th>\n",
       "      <td>38</td>\n",
       "      <td>Male</td>\n",
       "      <td>165</td>\n",
       "      <td>Bone Crushing Silver Skewer</td>\n",
       "      <td>3.37</td>\n",
       "      <td>Aelalis34</td>\n",
       "      <td>35-39</td>\n",
       "    </tr>\n",
       "    <tr>\n",
       "      <th>1</th>\n",
       "      <td>21</td>\n",
       "      <td>Male</td>\n",
       "      <td>119</td>\n",
       "      <td>Stormbringer, Dark Blade of Ending Misery</td>\n",
       "      <td>2.32</td>\n",
       "      <td>Eolo46</td>\n",
       "      <td>20-24</td>\n",
       "    </tr>\n",
       "    <tr>\n",
       "      <th>2</th>\n",
       "      <td>34</td>\n",
       "      <td>Male</td>\n",
       "      <td>174</td>\n",
       "      <td>Primitive Blade</td>\n",
       "      <td>2.46</td>\n",
       "      <td>Assastnya25</td>\n",
       "      <td>30-34</td>\n",
       "    </tr>\n",
       "    <tr>\n",
       "      <th>3</th>\n",
       "      <td>21</td>\n",
       "      <td>Male</td>\n",
       "      <td>92</td>\n",
       "      <td>Final Critic</td>\n",
       "      <td>1.36</td>\n",
       "      <td>Pheusrical25</td>\n",
       "      <td>20-24</td>\n",
       "    </tr>\n",
       "    <tr>\n",
       "      <th>4</th>\n",
       "      <td>23</td>\n",
       "      <td>Male</td>\n",
       "      <td>63</td>\n",
       "      <td>Stormfury Mace</td>\n",
       "      <td>1.27</td>\n",
       "      <td>Aela59</td>\n",
       "      <td>20-24</td>\n",
       "    </tr>\n",
       "  </tbody>\n",
       "</table>\n",
       "</div>"
      ],
      "text/plain": [
       "   Age Gender  Item ID                                  Item Name  Price  \\\n",
       "0   38   Male      165                Bone Crushing Silver Skewer   3.37   \n",
       "1   21   Male      119  Stormbringer, Dark Blade of Ending Misery   2.32   \n",
       "2   34   Male      174                            Primitive Blade   2.46   \n",
       "3   21   Male       92                               Final Critic   1.36   \n",
       "4   23   Male       63                             Stormfury Mace   1.27   \n",
       "\n",
       "             SN Age Demographics  \n",
       "0     Aelalis34            35-39  \n",
       "1        Eolo46            20-24  \n",
       "2   Assastnya25            30-34  \n",
       "3  Pheusrical25            20-24  \n",
       "4        Aela59            20-24  "
      ]
     },
     "execution_count": 12,
     "metadata": {},
     "output_type": "execute_result"
    }
   ],
   "source": [
    "#age demographics\n",
    "\n",
    "bins = [0,9,14,19,24,29,34,39,100] \n",
    "bin_names =[\"<10\", \"10-14\", \"15-19\",\"20-24\",\"25-29\", \"30-34\",\"35-39\", \"40+\"]\n",
    "pymoli_df[\"Age Demographics\"]= pd.cut(pymoli_df[\"Age\"], bins, labels=bin_names)\n",
    "pymoli_df.head()"
   ]
  },
  {
   "cell_type": "code",
   "execution_count": 13,
   "metadata": {
    "collapsed": true
   },
   "outputs": [],
   "source": [
    "ageAveragePurchasePrice = pymoli_df.groupby([\"Age Demographics\"]).mean()['Price']\n",
    "agePurchaseCount = pymoli_df.groupby([\"Age Demographics\"]).count()['Age']\n",
    "agePurchaseValueTotal= pymoli_df.groupby([\"Age Demographics\"]).sum()['Price']\n",
    "\n",
    "#normalized totals = divide total purchase value by count of each gender in dataset\n",
    "age_df_normalized_total=ageAveragePurchasePrice/agePurchaseCount\n",
    "age_df_normalized_total_percentage = age_df_normalized_total * 100\n",
    "age_summary_df = pd.DataFrame({'Average Purchase Price':ageAveragePurchasePrice,'Purchase Count':agePurchaseCount,'Normalized Totals':age_df_normalized_total,'Normalized Totals %':age_df_normalized_total_percentage,\"Total Purchase Value\": agePurchaseValueTotal})"
   ]
  },
  {
   "cell_type": "code",
   "execution_count": 14,
   "metadata": {},
   "outputs": [
    {
     "data": {
      "text/html": [
       "<div>\n",
       "<style>\n",
       "    .dataframe thead tr:only-child th {\n",
       "        text-align: right;\n",
       "    }\n",
       "\n",
       "    .dataframe thead th {\n",
       "        text-align: left;\n",
       "    }\n",
       "\n",
       "    .dataframe tbody tr th {\n",
       "        vertical-align: top;\n",
       "    }\n",
       "</style>\n",
       "<table border=\"1\" class=\"dataframe\">\n",
       "  <thead>\n",
       "    <tr style=\"text-align: right;\">\n",
       "      <th></th>\n",
       "      <th>Purchase Count</th>\n",
       "      <th>Average Purchase Price</th>\n",
       "      <th>Normalized Totals</th>\n",
       "      <th>Normalized Totals %</th>\n",
       "      <th>Total Purchase Value</th>\n",
       "    </tr>\n",
       "    <tr>\n",
       "      <th>Age Demographics</th>\n",
       "      <th></th>\n",
       "      <th></th>\n",
       "      <th></th>\n",
       "      <th></th>\n",
       "      <th></th>\n",
       "    </tr>\n",
       "  </thead>\n",
       "  <tbody>\n",
       "    <tr>\n",
       "      <th>10-14</th>\n",
       "      <td>38</td>\n",
       "      <td>2.787105</td>\n",
       "      <td>0.073345</td>\n",
       "      <td>7.334488</td>\n",
       "      <td>105.91</td>\n",
       "    </tr>\n",
       "    <tr>\n",
       "      <th>15-19</th>\n",
       "      <td>144</td>\n",
       "      <td>2.894653</td>\n",
       "      <td>0.020102</td>\n",
       "      <td>2.010176</td>\n",
       "      <td>416.83</td>\n",
       "    </tr>\n",
       "    <tr>\n",
       "      <th>20-24</th>\n",
       "      <td>372</td>\n",
       "      <td>2.923817</td>\n",
       "      <td>0.007860</td>\n",
       "      <td>0.785972</td>\n",
       "      <td>1087.66</td>\n",
       "    </tr>\n",
       "    <tr>\n",
       "      <th>25-29</th>\n",
       "      <td>134</td>\n",
       "      <td>2.958507</td>\n",
       "      <td>0.022078</td>\n",
       "      <td>2.207841</td>\n",
       "      <td>396.44</td>\n",
       "    </tr>\n",
       "    <tr>\n",
       "      <th>30-34</th>\n",
       "      <td>71</td>\n",
       "      <td>2.973803</td>\n",
       "      <td>0.041885</td>\n",
       "      <td>4.188455</td>\n",
       "      <td>211.14</td>\n",
       "    </tr>\n",
       "    <tr>\n",
       "      <th>35-39</th>\n",
       "      <td>48</td>\n",
       "      <td>2.932708</td>\n",
       "      <td>0.061098</td>\n",
       "      <td>6.109809</td>\n",
       "      <td>140.77</td>\n",
       "    </tr>\n",
       "    <tr>\n",
       "      <th>40+</th>\n",
       "      <td>18</td>\n",
       "      <td>3.244444</td>\n",
       "      <td>0.180247</td>\n",
       "      <td>18.024691</td>\n",
       "      <td>58.40</td>\n",
       "    </tr>\n",
       "    <tr>\n",
       "      <th>&lt;10</th>\n",
       "      <td>33</td>\n",
       "      <td>2.947879</td>\n",
       "      <td>0.089330</td>\n",
       "      <td>8.932966</td>\n",
       "      <td>97.28</td>\n",
       "    </tr>\n",
       "  </tbody>\n",
       "</table>\n",
       "</div>"
      ],
      "text/plain": [
       "                  Purchase Count  Average Purchase Price  Normalized Totals  \\\n",
       "Age Demographics                                                              \n",
       "10-14                         38                2.787105           0.073345   \n",
       "15-19                        144                2.894653           0.020102   \n",
       "20-24                        372                2.923817           0.007860   \n",
       "25-29                        134                2.958507           0.022078   \n",
       "30-34                         71                2.973803           0.041885   \n",
       "35-39                         48                2.932708           0.061098   \n",
       "40+                           18                3.244444           0.180247   \n",
       "<10                           33                2.947879           0.089330   \n",
       "\n",
       "                  Normalized Totals %  Total Purchase Value  \n",
       "Age Demographics                                             \n",
       "10-14                        7.334488                105.91  \n",
       "15-19                        2.010176                416.83  \n",
       "20-24                        0.785972               1087.66  \n",
       "25-29                        2.207841                396.44  \n",
       "30-34                        4.188455                211.14  \n",
       "35-39                        6.109809                140.77  \n",
       "40+                         18.024691                 58.40  \n",
       "<10                          8.932966                 97.28  "
      ]
     },
     "execution_count": 14,
     "metadata": {},
     "output_type": "execute_result"
    }
   ],
   "source": [
    "#Reorder columns for age_summary (demographics) output:\n",
    "age_summary_df = age_summary_df[['Purchase Count','Average Purchase Price','Normalized Totals','Normalized Totals %', 'Total Purchase Value']]\n",
    "age_summary_df.head(10)"
   ]
  },
  {
   "cell_type": "code",
   "execution_count": 15,
   "metadata": {},
   "outputs": [
    {
     "data": {
      "text/html": [
       "<div>\n",
       "<style>\n",
       "    .dataframe thead tr:only-child th {\n",
       "        text-align: right;\n",
       "    }\n",
       "\n",
       "    .dataframe thead th {\n",
       "        text-align: left;\n",
       "    }\n",
       "\n",
       "    .dataframe tbody tr th {\n",
       "        vertical-align: top;\n",
       "    }\n",
       "</style>\n",
       "<table border=\"1\" class=\"dataframe\">\n",
       "  <thead>\n",
       "    <tr style=\"text-align: right;\">\n",
       "      <th></th>\n",
       "      <th>Average Purchase Price</th>\n",
       "      <th>Purchase Count</th>\n",
       "      <th>Total Purchase Value</th>\n",
       "    </tr>\n",
       "    <tr>\n",
       "      <th>SN</th>\n",
       "      <th></th>\n",
       "      <th></th>\n",
       "      <th></th>\n",
       "    </tr>\n",
       "  </thead>\n",
       "  <tbody>\n",
       "    <tr>\n",
       "      <th>Undirrala66</th>\n",
       "      <td>3.412</td>\n",
       "      <td>5</td>\n",
       "      <td>17.06</td>\n",
       "    </tr>\n",
       "    <tr>\n",
       "      <th>Aerithllora36</th>\n",
       "      <td>3.775</td>\n",
       "      <td>4</td>\n",
       "      <td>15.10</td>\n",
       "    </tr>\n",
       "    <tr>\n",
       "      <th>Saedue76</th>\n",
       "      <td>3.390</td>\n",
       "      <td>4</td>\n",
       "      <td>13.56</td>\n",
       "    </tr>\n",
       "    <tr>\n",
       "      <th>Sondim43</th>\n",
       "      <td>3.255</td>\n",
       "      <td>4</td>\n",
       "      <td>13.02</td>\n",
       "    </tr>\n",
       "    <tr>\n",
       "      <th>Mindimnya67</th>\n",
       "      <td>3.185</td>\n",
       "      <td>4</td>\n",
       "      <td>12.74</td>\n",
       "    </tr>\n",
       "  </tbody>\n",
       "</table>\n",
       "</div>"
      ],
      "text/plain": [
       "               Average Purchase Price  Purchase Count  Total Purchase Value\n",
       "SN                                                                         \n",
       "Undirrala66                     3.412               5                 17.06\n",
       "Aerithllora36                   3.775               4                 15.10\n",
       "Saedue76                        3.390               4                 13.56\n",
       "Sondim43                        3.255               4                 13.02\n",
       "Mindimnya67                     3.185               4                 12.74"
      ]
     },
     "execution_count": 15,
     "metadata": {},
     "output_type": "execute_result"
    }
   ],
   "source": [
    "#Top spenders\n",
    "TopSpendersAveragePurchasePrice = pymoli_df.groupby([\"SN\"]).mean()['Price']\n",
    "TopSpendersPurchaseCount = pymoli_df.groupby([\"SN\"]).count()['Age']\n",
    "TopSpendersPurchaseValueTotal= pymoli_df.groupby([\"SN\"]).sum()['Price']\n",
    "top_spend_summary_df = pd.DataFrame({'Average Purchase Price':TopSpendersAveragePurchasePrice,'Purchase Count':TopSpendersPurchaseCount,\"Total Purchase Value\": TopSpendersPurchaseValueTotal})\n",
    "top_spend_summary_df = top_spend_summary_df.sort_values(['Total Purchase Value'], axis=0, ascending=False, inplace=False, kind='quicksort', na_position='last')\n",
    "#top_spend_summary_df=top_spend_summary_df.head(5)\n",
    "top_spend_summary_df = top_spend_summary_df[0:5]  \n",
    "top_spend_summary_df.head()"
   ]
  },
  {
   "cell_type": "code",
   "execution_count": 66,
   "metadata": {},
   "outputs": [],
   "source": [
    "#Most popular items\n",
    "mpiPurchasePrice = pymoli_df.groupby([\"Item Name\",\"Item ID\"]).mean()['Price']\n",
    "mpiPurchaseCount = pymoli_df.groupby([\"Item Name\",\"Item ID\"]).count()['Price']\n",
    "mpiPurchaseValueTotal= pymoli_df.groupby([\"Item Name\",\"Item ID\"]).sum()['Price']\n",
    "mpi_df = pd.DataFrame({'Purchase Price':mpiPurchasePrice,'Purchase Count':mpiPurchaseCount,\"Total Purchase Value\": mpiPurchaseValueTotal})\n",
    "mpi_summary_df = mpi_df.sort_values(['Purchase Count'], axis=0, ascending=False, inplace=False, kind='quicksort', na_position='last')\n",
    "mpi_df = mpi_df[0:5]  \n"
   ]
  },
  {
   "cell_type": "code",
   "execution_count": 67,
   "metadata": {},
   "outputs": [
    {
     "data": {
      "text/html": [
       "<div>\n",
       "<style>\n",
       "    .dataframe thead tr:only-child th {\n",
       "        text-align: right;\n",
       "    }\n",
       "\n",
       "    .dataframe thead th {\n",
       "        text-align: left;\n",
       "    }\n",
       "\n",
       "    .dataframe tbody tr th {\n",
       "        vertical-align: top;\n",
       "    }\n",
       "</style>\n",
       "<table border=\"1\" class=\"dataframe\">\n",
       "  <thead>\n",
       "    <tr style=\"text-align: right;\">\n",
       "      <th></th>\n",
       "      <th></th>\n",
       "      <th>Purchase Count</th>\n",
       "      <th>Purchase Price</th>\n",
       "      <th>Total Purchase Value</th>\n",
       "    </tr>\n",
       "    <tr>\n",
       "      <th>Item Name</th>\n",
       "      <th>Item ID</th>\n",
       "      <th></th>\n",
       "      <th></th>\n",
       "      <th></th>\n",
       "    </tr>\n",
       "  </thead>\n",
       "  <tbody>\n",
       "    <tr>\n",
       "      <th>Arcane Gem</th>\n",
       "      <th>84</th>\n",
       "      <td>12</td>\n",
       "      <td>2.445000</td>\n",
       "      <td>29.34</td>\n",
       "    </tr>\n",
       "    <tr>\n",
       "      <th>Betrayal, Whisper of Grieving Widows</th>\n",
       "      <th>39</th>\n",
       "      <td>11</td>\n",
       "      <td>2.350000</td>\n",
       "      <td>25.85</td>\n",
       "    </tr>\n",
       "    <tr>\n",
       "      <th>Trickster</th>\n",
       "      <th>31</th>\n",
       "      <td>10</td>\n",
       "      <td>2.322000</td>\n",
       "      <td>23.22</td>\n",
       "    </tr>\n",
       "    <tr>\n",
       "      <th>Feral Katana</th>\n",
       "      <th>154</th>\n",
       "      <td>9</td>\n",
       "      <td>2.616667</td>\n",
       "      <td>23.55</td>\n",
       "    </tr>\n",
       "    <tr>\n",
       "      <th>Serenity</th>\n",
       "      <th>13</th>\n",
       "      <td>9</td>\n",
       "      <td>1.490000</td>\n",
       "      <td>13.41</td>\n",
       "    </tr>\n",
       "  </tbody>\n",
       "</table>\n",
       "</div>"
      ],
      "text/plain": [
       "                                              Purchase Count  Purchase Price  \\\n",
       "Item Name                            Item ID                                   \n",
       "Arcane Gem                           84                   12        2.445000   \n",
       "Betrayal, Whisper of Grieving Widows 39                   11        2.350000   \n",
       "Trickster                            31                   10        2.322000   \n",
       "Feral Katana                         154                   9        2.616667   \n",
       "Serenity                             13                    9        1.490000   \n",
       "\n",
       "                                              Total Purchase Value  \n",
       "Item Name                            Item ID                        \n",
       "Arcane Gem                           84                      29.34  \n",
       "Betrayal, Whisper of Grieving Widows 39                      25.85  \n",
       "Trickster                            31                      23.22  \n",
       "Feral Katana                         154                     23.55  \n",
       "Serenity                             13                      13.41  "
      ]
     },
     "execution_count": 67,
     "metadata": {},
     "output_type": "execute_result"
    }
   ],
   "source": [
    "mpi_summary_df.head()"
   ]
  },
  {
   "cell_type": "code",
   "execution_count": 68,
   "metadata": {},
   "outputs": [],
   "source": [
    "#Most profitable items\n",
    "mpi2PurchasePrice = pymoli_df.groupby([\"Item Name\",\"Item ID\"]).mean()['Price']\n",
    "mpi2PurchaseCount = pymoli_df.groupby([\"Item Name\",\"Item ID\"]).count()['Price']\n",
    "mpi2PurchaseValueTotal= pymoli_df.groupby([\"Item Name\",\"Item ID\"]).sum()['Price']\n",
    "mpi2_df = pd.DataFrame({'Purchase Price':mpi2PurchasePrice,'Item Price':itemPrice,'Purchase Count':mpi2PurchaseCount,\"Total Purchase Value\": mpi2PurchaseValueTotal})\n",
    "mpi2_summary_df = mpi_df.sort_values(['Total Purchase Value'], axis=0, ascending=False, inplace=False, kind='quicksort', na_position='last')\n",
    "mpi2_df = mpi_df[0:5]  "
   ]
  },
  {
   "cell_type": "code",
   "execution_count": 69,
   "metadata": {},
   "outputs": [
    {
     "data": {
      "text/html": [
       "<div>\n",
       "<style>\n",
       "    .dataframe thead tr:only-child th {\n",
       "        text-align: right;\n",
       "    }\n",
       "\n",
       "    .dataframe thead th {\n",
       "        text-align: left;\n",
       "    }\n",
       "\n",
       "    .dataframe tbody tr th {\n",
       "        vertical-align: top;\n",
       "    }\n",
       "</style>\n",
       "<table border=\"1\" class=\"dataframe\">\n",
       "  <thead>\n",
       "    <tr style=\"text-align: right;\">\n",
       "      <th></th>\n",
       "      <th></th>\n",
       "      <th>Purchase Count</th>\n",
       "      <th>Purchase Price</th>\n",
       "      <th>Total Purchase Value</th>\n",
       "    </tr>\n",
       "    <tr>\n",
       "      <th>Item Name</th>\n",
       "      <th>Item ID</th>\n",
       "      <th></th>\n",
       "      <th></th>\n",
       "      <th></th>\n",
       "    </tr>\n",
       "  </thead>\n",
       "  <tbody>\n",
       "    <tr>\n",
       "      <th>Alpha, Oath of Zeal</th>\n",
       "      <th>79</th>\n",
       "      <td>8</td>\n",
       "      <td>2.68375</td>\n",
       "      <td>21.47</td>\n",
       "    </tr>\n",
       "    <tr>\n",
       "      <th>Aetherius, Boon of the Blessed</th>\n",
       "      <th>137</th>\n",
       "      <td>4</td>\n",
       "      <td>4.75000</td>\n",
       "      <td>19.00</td>\n",
       "    </tr>\n",
       "    <tr>\n",
       "      <th>Alpha</th>\n",
       "      <th>130</th>\n",
       "      <td>7</td>\n",
       "      <td>1.56000</td>\n",
       "      <td>10.92</td>\n",
       "    </tr>\n",
       "    <tr>\n",
       "      <th>Agatha</th>\n",
       "      <th>120</th>\n",
       "      <td>5</td>\n",
       "      <td>1.91000</td>\n",
       "      <td>9.55</td>\n",
       "    </tr>\n",
       "    <tr>\n",
       "      <th>Abyssal Shard</th>\n",
       "      <th>162</th>\n",
       "      <td>3</td>\n",
       "      <td>2.04000</td>\n",
       "      <td>6.12</td>\n",
       "    </tr>\n",
       "  </tbody>\n",
       "</table>\n",
       "</div>"
      ],
      "text/plain": [
       "                                        Purchase Count  Purchase Price  \\\n",
       "Item Name                      Item ID                                   \n",
       "Alpha, Oath of Zeal            79                    8         2.68375   \n",
       "Aetherius, Boon of the Blessed 137                   4         4.75000   \n",
       "Alpha                          130                   7         1.56000   \n",
       "Agatha                         120                   5         1.91000   \n",
       "Abyssal Shard                  162                   3         2.04000   \n",
       "\n",
       "                                        Total Purchase Value  \n",
       "Item Name                      Item ID                        \n",
       "Alpha, Oath of Zeal            79                      21.47  \n",
       "Aetherius, Boon of the Blessed 137                     19.00  \n",
       "Alpha                          130                     10.92  \n",
       "Agatha                         120                      9.55  \n",
       "Abyssal Shard                  162                      6.12  "
      ]
     },
     "execution_count": 69,
     "metadata": {},
     "output_type": "execute_result"
    }
   ],
   "source": [
    "mpi2_summary_df.head()"
   ]
  },
  {
   "cell_type": "code",
   "execution_count": null,
   "metadata": {
    "collapsed": true
   },
   "outputs": [],
   "source": []
  },
  {
   "cell_type": "code",
   "execution_count": null,
   "metadata": {
    "collapsed": true
   },
   "outputs": [],
   "source": []
  }
 ],
 "metadata": {
  "kernelspec": {
   "display_name": "Python 3",
   "language": "python",
   "name": "python3"
  },
  "language_info": {
   "codemirror_mode": {
    "name": "ipython",
    "version": 3
   },
   "file_extension": ".py",
   "mimetype": "text/x-python",
   "name": "python",
   "nbconvert_exporter": "python",
   "pygments_lexer": "ipython3",
   "version": "3.6.1"
  }
 },
 "nbformat": 4,
 "nbformat_minor": 2
}
