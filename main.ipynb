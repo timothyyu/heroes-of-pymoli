{
 "cells": [
  {
   "cell_type": "code",
   "execution_count": 297,
   "metadata": {
    "collapsed": true
   },
   "outputs": [],
   "source": [
    "import pandas as pd\n",
    "import json"
   ]
  },
  {
   "cell_type": "code",
   "execution_count": 298,
   "metadata": {
    "scrolled": true
   },
   "outputs": [
    {
     "name": "stdout",
     "output_type": "stream",
     "text": [
      "780\n",
      "78\n"
     ]
    }
   ],
   "source": [
    "file1_df = pd.read_json('raw_data/purchase_data.json')\n",
    "file2_df = pd.read_json('raw_data/purchase_data2.json')\n",
    "print (len(file1_df))\n",
    "print (len(file2_df))"
   ]
  },
  {
   "cell_type": "code",
   "execution_count": 299,
   "metadata": {
    "scrolled": true
   },
   "outputs": [
    {
     "data": {
      "text/plain": [
       "(Index(['Age', 'Gender', 'Item ID', 'Item Name', 'Price', 'SN'], dtype='object'),\n",
       " Index(['Age', 'Gender', 'Item ID', 'Item Name', 'Price', 'SN'], dtype='object'))"
      ]
     },
     "execution_count": 299,
     "metadata": {},
     "output_type": "execute_result"
    }
   ],
   "source": [
    "#Check to make sure columns are the same between both files\n",
    "file1_df.columns,file2_df.columns"
   ]
  },
  {
   "cell_type": "code",
   "execution_count": 300,
   "metadata": {
    "collapsed": true
   },
   "outputs": [],
   "source": [
    "pymoli_df = file1_df.append(file2_df)\n",
    "#pymoli_df = pd.merge(file1_df,file2_df, on=\"\", how=\"inner\")"
   ]
  },
  {
   "cell_type": "code",
   "execution_count": 301,
   "metadata": {},
   "outputs": [
    {
     "name": "stdout",
     "output_type": "stream",
     "text": [
      "858\n"
     ]
    }
   ],
   "source": [
    "#player count\n",
    "playerCount = len(pymoli_df['SN'])     #alternate way: playerCount = pymoli_df['SN'].count().mean()\n",
    "print(playerCount)"
   ]
  },
  {
   "cell_type": "code",
   "execution_count": 302,
   "metadata": {},
   "outputs": [
    {
     "name": "stdout",
     "output_type": "stream",
     "text": [
      "184\n",
      "2.9305710955710915\n",
      "858\n",
      "2514.4299999999967\n"
     ]
    }
   ],
   "source": [
    "#purchase analysis\n",
    "\n",
    "#number of unique items\n",
    "uniqueItemCount = len(pymoli_df['Item ID'].unique())\n",
    "\n",
    "#average purchase price\n",
    "averagePurchasePrice = pymoli_df[\"Price\"].mean()\n",
    "\n",
    "#total number of purchases\n",
    "purchaseCount = pymoli_df['Price'].count() #pymoli_df.loc[pymoli_df['Price'] == 0.00] #search through purchases to make sure non are free/0.00\n",
    "\n",
    "#total revenue\n",
    "totalRevenue = pymoli_df['Price'].sum()\n",
    "#pymoli_df['Price'].value_counts()\n",
    "\n",
    "print(uniqueItemCount)\n",
    "print(averagePurchasePrice)\n",
    "print (purchaseCount)\n",
    "print (totalRevenue)\n",
    "\n",
    "summary_df = pd.DataFrame({\"UniqueItems\":uniqueItemCount})\n",
    "\n",
    "summary_df[\"test\"] = averagePurchasePrice"
   ]
  },
  {
   "cell_type": "code",
   "execution_count": 303,
   "metadata": {},
   "outputs": [
    {
     "name": "stdout",
     "output_type": "stream",
     "text": [
      "Male                     697\n",
      "Female                   149\n",
      "Other / Non-Disclosed     12\n",
      "Name: Gender, dtype: int64\n",
      "Male                     81.235431\n",
      "Female                   17.365967\n",
      "Other / Non-Disclosed     1.398601\n",
      "Name: Gender, dtype: float64\n"
     ]
    }
   ],
   "source": [
    "#gender demographics\n",
    "genderCount = pymoli_df['Gender'].value_counts()\n",
    "percentageGender = pymoli_df['Gender'].value_counts()/len(pymoli_df)*100\n",
    "print (genderCount)\n",
    "print (percentageGender)"
   ]
  },
  {
   "cell_type": "code",
   "execution_count": 324,
   "metadata": {},
   "outputs": [
    {
     "data": {
      "text/plain": [
       "Gender\n",
       "Female                   2.847584\n",
       "Male                     2.944448\n",
       "Other / Non-Disclosed    3.155000\n",
       "Name: Price, dtype: float64"
      ]
     },
     "execution_count": 324,
     "metadata": {},
     "output_type": "execute_result"
    }
   ],
   "source": [
    "gender_df_price =  pymoli_df.groupby(['Gender']).mean()[\"Price\"]\n",
    "gender_df_count =  pymoli_df.groupby(['Gender']).count()[\"Price\"]\n",
    "\n",
    "#normalized totals = divide total purchase value by count of each gender in dataset\n",
    "gender_df_price.head()\n",
    "\n",
    "gender_summary_df = pd.DataFrame({'AveragePrice':gender_df_price,'PurchaseCount':gender_df_count})"
   ]
  },
  {
   "cell_type": "code",
   "execution_count": null,
   "metadata": {
    "collapsed": true
   },
   "outputs": [],
   "source": []
  },
  {
   "cell_type": "code",
   "execution_count": 198,
   "metadata": {
    "collapsed": true
   },
   "outputs": [],
   "source": []
  },
  {
   "cell_type": "code",
   "execution_count": null,
   "metadata": {
    "collapsed": true
   },
   "outputs": [],
   "source": []
  },
  {
   "cell_type": "code",
   "execution_count": null,
   "metadata": {
    "collapsed": true
   },
   "outputs": [],
   "source": []
  }
 ],
 "metadata": {
  "kernelspec": {
   "display_name": "Python 3",
   "language": "python",
   "name": "python3"
  },
  "language_info": {
   "codemirror_mode": {
    "name": "ipython",
    "version": 3
   },
   "file_extension": ".py",
   "mimetype": "text/x-python",
   "name": "python",
   "nbconvert_exporter": "python",
   "pygments_lexer": "ipython3",
   "version": "3.6.1"
  }
 },
 "nbformat": 4,
 "nbformat_minor": 2
}
