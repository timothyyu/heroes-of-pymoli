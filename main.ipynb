{
 "cells": [
  {
   "cell_type": "code",
   "execution_count": 21,
   "metadata": {
    "collapsed": true
   },
   "outputs": [],
   "source": [
    "import pandas as pd\n",
    "import json"
   ]
  },
  {
   "cell_type": "code",
   "execution_count": 22,
   "metadata": {},
   "outputs": [],
   "source": [
    "#first file in raw_data does not have a number, thus: ''\n",
    "fileNumber = ['', '2']\n",
    "\n",
    "for numToCheck in fileNumber:\n",
    "    pymoli_df = pd.read_json('raw_data/purchase_data' + numToCheck + '.json')"
   ]
  },
  {
   "cell_type": "code",
   "execution_count": 23,
   "metadata": {},
   "outputs": [
    {
     "data": {
      "text/html": [
       "<div>\n",
       "<style>\n",
       "    .dataframe thead tr:only-child th {\n",
       "        text-align: right;\n",
       "    }\n",
       "\n",
       "    .dataframe thead th {\n",
       "        text-align: left;\n",
       "    }\n",
       "\n",
       "    .dataframe tbody tr th {\n",
       "        vertical-align: top;\n",
       "    }\n",
       "</style>\n",
       "<table border=\"1\" class=\"dataframe\">\n",
       "  <thead>\n",
       "    <tr style=\"text-align: right;\">\n",
       "      <th></th>\n",
       "      <th>Age</th>\n",
       "      <th>Gender</th>\n",
       "      <th>Item ID</th>\n",
       "      <th>Item Name</th>\n",
       "      <th>Price</th>\n",
       "      <th>SN</th>\n",
       "    </tr>\n",
       "  </thead>\n",
       "  <tbody>\n",
       "    <tr>\n",
       "      <th>0</th>\n",
       "      <td>20</td>\n",
       "      <td>Male</td>\n",
       "      <td>93</td>\n",
       "      <td>Apocalyptic Battlescythe</td>\n",
       "      <td>4.49</td>\n",
       "      <td>Iloni35</td>\n",
       "    </tr>\n",
       "    <tr>\n",
       "      <th>1</th>\n",
       "      <td>21</td>\n",
       "      <td>Male</td>\n",
       "      <td>12</td>\n",
       "      <td>Dawne</td>\n",
       "      <td>3.36</td>\n",
       "      <td>Aidaira26</td>\n",
       "    </tr>\n",
       "    <tr>\n",
       "      <th>2</th>\n",
       "      <td>17</td>\n",
       "      <td>Male</td>\n",
       "      <td>5</td>\n",
       "      <td>Putrid Fan</td>\n",
       "      <td>2.63</td>\n",
       "      <td>Irim47</td>\n",
       "    </tr>\n",
       "    <tr>\n",
       "      <th>3</th>\n",
       "      <td>17</td>\n",
       "      <td>Male</td>\n",
       "      <td>123</td>\n",
       "      <td>Twilight's Carver</td>\n",
       "      <td>2.55</td>\n",
       "      <td>Irith83</td>\n",
       "    </tr>\n",
       "    <tr>\n",
       "      <th>4</th>\n",
       "      <td>22</td>\n",
       "      <td>Male</td>\n",
       "      <td>154</td>\n",
       "      <td>Feral Katana</td>\n",
       "      <td>4.11</td>\n",
       "      <td>Philodil43</td>\n",
       "    </tr>\n",
       "  </tbody>\n",
       "</table>\n",
       "</div>"
      ],
      "text/plain": [
       "   Age Gender  Item ID                 Item Name  Price          SN\n",
       "0   20   Male       93  Apocalyptic Battlescythe   4.49     Iloni35\n",
       "1   21   Male       12                     Dawne   3.36   Aidaira26\n",
       "2   17   Male        5                Putrid Fan   2.63      Irim47\n",
       "3   17   Male      123         Twilight's Carver   2.55     Irith83\n",
       "4   22   Male      154              Feral Katana   4.11  Philodil43"
      ]
     },
     "execution_count": 23,
     "metadata": {},
     "output_type": "execute_result"
    }
   ],
   "source": [
    "pymoli_df.head()"
   ]
  },
  {
   "cell_type": "code",
   "execution_count": 33,
   "metadata": {},
   "outputs": [
    {
     "data": {
      "text/plain": [
       "Index(['Age', 'Gender', 'Item ID', 'Item Name', 'Price', 'SN'], dtype='object')"
      ]
     },
     "execution_count": 33,
     "metadata": {},
     "output_type": "execute_result"
    }
   ],
   "source": [
    "pymoli_df.columns"
   ]
  },
  {
   "cell_type": "code",
   "execution_count": 42,
   "metadata": {},
   "outputs": [
    {
     "name": "stdout",
     "output_type": "stream",
     "text": [
      "               Age  Item ID  Price\n",
      "SN                                \n",
      "Aeri79          23      107   4.15\n",
      "Aerithllora36   40      148   4.65\n",
      "Aesririam61     39        2   2.65\n",
      "Aesurstilis64   36      139   4.25\n",
      "Aidaira26       42       94   5.13\n",
      "Aiduecal76       8        9   1.42\n",
      "Airi27          24        4   1.91\n",
      "Airithrin43     21      108   2.26\n",
      "Alarap40        24      117   4.71\n",
      "Ardcil81        38      163   4.16\n",
      "Arithllorin55   21       90   4.12\n",
      "Assistast50     23      118   2.95\n",
      "Chamalo71       34      126   1.08\n",
      "Chamast86       35       93   4.49\n",
      "Chamjaskya75    17      180   2.77\n",
      "Chaniman66      48      261   3.23\n",
      "Chanirra64      18       25   4.78\n",
      "Chanjasksda31   33       17   1.96\n",
      "Chrathybust28   21       16   2.15\n",
      "Eolideu96       18      111   1.79\n",
      "Eollym91        20       18   3.75\n",
      "Eoralphos86     11      131   2.99\n",
      "Ethralan59      33      129   2.88\n",
      "Eusty71         25       84   4.81\n",
      "Eustyria89      30       60   2.70\n",
      "Filon68         23      176   2.12\n",
      "Firon67         23       68   4.39\n",
      "Frichilsa31     20       14   2.82\n",
      "Haerithp41      23      154   4.11\n",
      "Hainaria90       8        8   2.22\n",
      "...            ...      ...    ...\n",
      "Jiskimsda56     24      126   1.08\n",
      "Jiskjask76      21       31   4.59\n",
      "Lassimla92      20      158   1.94\n",
      "Lirtassa77      20       90   4.12\n",
      "Lirtastan49     25      127   1.34\n",
      "Lirtistanya48    7       98   1.29\n",
      "Lisirra44       21      180   2.77\n",
      "Lisosiast26     24        6   3.58\n",
      "Palyon91        28        1   3.67\n",
      "Pharithdil38    16        0   1.89\n",
      "Pheodaisun84    20      108   2.26\n",
      "Philodil43      22      154   4.11\n",
      "Rarallo90        9      156   4.53\n",
      "Saralp86        25       64   2.42\n",
      "Seostylis96     16       94   3.64\n",
      "Shaidanu32      16      172   2.71\n",
      "Sondassasya91   20      170   1.74\n",
      "Sondim43        23       94   3.64\n",
      "Streural92      35       10   1.81\n",
      "Sundaky74       50      177   7.41\n",
      "Syalallodil59   20      134   2.15\n",
      "Undadar97       25       98   1.29\n",
      "Undilsan50      22       94   3.64\n",
      "Undirra90       28       27   3.38\n",
      "Undirrasta74    20       64   2.42\n",
      "Undosian34      30      105   1.02\n",
      "Yarith71         8       44   4.36\n",
      "Yarithrgue83    23      181   4.12\n",
      "Yarmol79        17       79   1.31\n",
      "Zhisrisu83      24      174   1.36\n",
      "\n",
      "[74 rows x 3 columns]\n"
     ]
    }
   ],
   "source": [
    "playerCount = pymoli_df.groupby(['SN']).sum()\n",
    "print (playerCount)"
   ]
  },
  {
   "cell_type": "code",
   "execution_count": null,
   "metadata": {
    "collapsed": true
   },
   "outputs": [],
   "source": []
  },
  {
   "cell_type": "code",
   "execution_count": null,
   "metadata": {
    "collapsed": true
   },
   "outputs": [],
   "source": []
  }
 ],
 "metadata": {
  "kernelspec": {
   "display_name": "Python 3",
   "language": "python",
   "name": "python3"
  },
  "language_info": {
   "codemirror_mode": {
    "name": "ipython",
    "version": 3
   },
   "file_extension": ".py",
   "mimetype": "text/x-python",
   "name": "python",
   "nbconvert_exporter": "python",
   "pygments_lexer": "ipython3",
   "version": "3.6.1"
  }
 },
 "nbformat": 4,
 "nbformat_minor": 2
}
