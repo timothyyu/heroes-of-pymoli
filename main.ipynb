{
 "cells": [
  {
   "cell_type": "code",
   "execution_count": 58,
   "metadata": {
    "collapsed": true
   },
   "outputs": [],
   "source": [
    "import pandas as pd\n",
    "import json"
   ]
  },
  {
   "cell_type": "code",
   "execution_count": 57,
   "metadata": {},
   "outputs": [
    {
     "name": "stdout",
     "output_type": "stream",
     "text": [
      "780\n",
      "78\n"
     ]
    }
   ],
   "source": [
    "file1_df = pd.read_json('raw_data/purchase_data.json')\n",
    "file2_df = pd.read_json('raw_data/purchase_data2.json')\n",
    "print (len(file1_df))\n",
    "print (len(file2_df))\n",
    "#pymoli_df = pd.merge(file1_df,file2_df, on=\"\", how=\"inner\")"
   ]
  },
  {
   "cell_type": "code",
   "execution_count": 66,
   "metadata": {
    "scrolled": true
   },
   "outputs": [
    {
     "data": {
      "text/plain": [
       "(Index(['Age', 'Gender', 'Item ID', 'Item Name', 'Price', 'SN'], dtype='object'),\n",
       " Index(['Age', 'Gender', 'Item ID', 'Item Name', 'Price', 'SN'], dtype='object'))"
      ]
     },
     "execution_count": 66,
     "metadata": {},
     "output_type": "execute_result"
    }
   ],
   "source": [
    "#Check to make sure columns are the same between both files\n",
    "file1_df.columns,file2_df.columns"
   ]
  },
  {
   "cell_type": "code",
   "execution_count": 67,
   "metadata": {},
   "outputs": [],
   "source": [
    "pymoli_df = file1_df.append(file2_df)"
   ]
  },
  {
   "cell_type": "code",
   "execution_count": 79,
   "metadata": {},
   "outputs": [],
   "source": [
    "#player count\n",
    "playerCount = len(pymoli_df['SN'])     #alternate way: playerCount = pymoli_df['SN'].count().mean()"
   ]
  },
  {
   "cell_type": "code",
   "execution_count": 115,
   "metadata": {},
   "outputs": [
    {
     "data": {
      "text/plain": [
       "array([165, 119, 174,  92,  63,  10, 153, 169, 118,  99,  57,  47,  81,\n",
       "        77,  44,  96, 123,  59,  91, 177,  78,   3,  11, 183,  65, 132,\n",
       "       106,  49,  45, 155,  37,  48,  90,  13, 171,  25,   7, 124,  68,\n",
       "        85, 120,  17, 141,  73, 151,  32,  51, 101, 140,  31,  34,   2,\n",
       "        86,  39,  28, 160, 134,  83,  38, 158, 110, 122,  54, 105,  87,\n",
       "        23, 144, 128, 175,  46, 150, 152, 108, 172, 167, 181,  20, 130,\n",
       "       111, 103,  30, 139, 173,  55, 115,  35,  42,   9,  84, 180, 102,\n",
       "        53,  18,  74, 126,  50,  62, 125, 121, 129, 149,  12,  71,  14,\n",
       "        58,  27,  52,  66, 100, 112,  24,  94, 107,   0, 182,  97,  70,\n",
       "        89,   1, 170,  93, 179,  36,  75, 143, 137, 176, 148, 127, 147,\n",
       "       161, 154, 157, 116,  61, 131,  41, 145,  60, 162, 135,   8,  40,\n",
       "        15,  29,  72, 114, 117,  79,  88, 104,  95,  64,  98,  33,  76,\n",
       "       146, 166,  56,  22,  21,  16,  67, 133,  69, 159,  82, 113, 164,\n",
       "         6, 163,   5,  19, 168, 136,  80,  26, 142, 178, 156, 109,  43,\n",
       "         4, 138], dtype=int64)"
      ]
     },
     "execution_count": 115,
     "metadata": {},
     "output_type": "execute_result"
    }
   ],
   "source": [
    "#purchase analysis\n",
    "pymoli_df['Item ID'].unique()\n"
   ]
  },
  {
   "cell_type": "code",
   "execution_count": null,
   "metadata": {
    "collapsed": true
   },
   "outputs": [],
   "source": []
  },
  {
   "cell_type": "code",
   "execution_count": null,
   "metadata": {
    "collapsed": true
   },
   "outputs": [],
   "source": []
  },
  {
   "cell_type": "code",
   "execution_count": null,
   "metadata": {
    "collapsed": true
   },
   "outputs": [],
   "source": []
  },
  {
   "cell_type": "code",
   "execution_count": null,
   "metadata": {
    "collapsed": true
   },
   "outputs": [],
   "source": []
  },
  {
   "cell_type": "code",
   "execution_count": null,
   "metadata": {
    "collapsed": true
   },
   "outputs": [],
   "source": []
  }
 ],
 "metadata": {
  "kernelspec": {
   "display_name": "Python 3",
   "language": "python",
   "name": "python3"
  },
  "language_info": {
   "codemirror_mode": {
    "name": "ipython",
    "version": 3
   },
   "file_extension": ".py",
   "mimetype": "text/x-python",
   "name": "python",
   "nbconvert_exporter": "python",
   "pygments_lexer": "ipython3",
   "version": "3.6.1"
  }
 },
 "nbformat": 4,
 "nbformat_minor": 2
}
